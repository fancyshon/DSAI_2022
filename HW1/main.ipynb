{
 "cells": [
  {
   "cell_type": "code",
   "execution_count": 369,
   "metadata": {},
   "outputs": [],
   "source": [
    "import pandas as pd\n",
    "import argparse\n",
    "import torch\n",
    "import torch.nn as nn\n",
    "import numpy as np\n",
    "import matplotlib.pyplot as plt\n",
    "from torch.utils.data import DataLoader, Dataset\n",
    "from sklearn.preprocessing import MinMaxScaler\n",
    "from tqdm import tqdm\n",
    "\n"
   ]
  },
  {
   "cell_type": "code",
   "execution_count": 370,
   "metadata": {},
   "outputs": [],
   "source": [
    "EPOCH = 100\n",
    "LR = 0.0001\n",
    "\n",
    "device = 'cpu'\n",
    "if torch.cuda.is_available(): # 若想使用 cuda 且可以使用 cuda\n",
    "    device = 'cuda'"
   ]
  },
  {
   "cell_type": "code",
   "execution_count": 371,
   "metadata": {},
   "outputs": [
    {
     "name": "stdout",
     "output_type": "stream",
     "text": [
      "(82, 3)\n"
     ]
    },
    {
     "data": {
      "text/html": [
       "<div>\n",
       "<style scoped>\n",
       "    .dataframe tbody tr th:only-of-type {\n",
       "        vertical-align: middle;\n",
       "    }\n",
       "\n",
       "    .dataframe tbody tr th {\n",
       "        vertical-align: top;\n",
       "    }\n",
       "\n",
       "    .dataframe thead th {\n",
       "        text-align: right;\n",
       "    }\n",
       "</style>\n",
       "<table border=\"1\" class=\"dataframe\">\n",
       "  <thead>\n",
       "    <tr style=\"text-align: right;\">\n",
       "      <th></th>\n",
       "      <th>日期</th>\n",
       "      <th>備轉容量(萬瓩)</th>\n",
       "      <th>備轉容量率(%)</th>\n",
       "    </tr>\n",
       "  </thead>\n",
       "  <tbody>\n",
       "    <tr>\n",
       "      <th>0</th>\n",
       "      <td>2022/01/01</td>\n",
       "      <td>334.5</td>\n",
       "      <td>13.04</td>\n",
       "    </tr>\n",
       "    <tr>\n",
       "      <th>1</th>\n",
       "      <td>2022/01/02</td>\n",
       "      <td>364.1</td>\n",
       "      <td>14.05</td>\n",
       "    </tr>\n",
       "    <tr>\n",
       "      <th>2</th>\n",
       "      <td>2022/01/03</td>\n",
       "      <td>318.4</td>\n",
       "      <td>10.62</td>\n",
       "    </tr>\n",
       "    <tr>\n",
       "      <th>3</th>\n",
       "      <td>2022/01/04</td>\n",
       "      <td>262.0</td>\n",
       "      <td>8.64</td>\n",
       "    </tr>\n",
       "    <tr>\n",
       "      <th>4</th>\n",
       "      <td>2022/01/05</td>\n",
       "      <td>251.2</td>\n",
       "      <td>8.25</td>\n",
       "    </tr>\n",
       "  </tbody>\n",
       "</table>\n",
       "</div>"
      ],
      "text/plain": [
       "           日期  備轉容量(萬瓩)  備轉容量率(%)\n",
       "0  2022/01/01     334.5     13.04\n",
       "1  2022/01/02     364.1     14.05\n",
       "2  2022/01/03     318.4     10.62\n",
       "3  2022/01/04     262.0      8.64\n",
       "4  2022/01/05     251.2      8.25"
      ]
     },
     "execution_count": 371,
     "metadata": {},
     "output_type": "execute_result"
    }
   ],
   "source": [
    "data=pd.read_csv('train_data.csv')\n",
    "print(data.shape)\n",
    "data.head()\n"
   ]
  },
  {
   "cell_type": "code",
   "execution_count": 372,
   "metadata": {},
   "outputs": [],
   "source": [
    "def getData(df, column, train_size):\n",
    "\n",
    "    train_data = np.array(df[column][:-train_size])\n",
    "    test_data = np.array(df[column][-train_size:])\n",
    "\n",
    "    return train_data, test_data\n"
   ]
  },
  {
   "cell_type": "code",
   "execution_count": 373,
   "metadata": {},
   "outputs": [
    {
     "name": "stdout",
     "output_type": "stream",
     "text": [
      "[271.2 442.4 267.5 305.  275.1 373.5 371.7]\n"
     ]
    }
   ],
   "source": [
    "train_data, test_data = getData(data,'備轉容量(萬瓩)',7)\n",
    "scaler = MinMaxScaler(feature_range=(-1, 1))\n",
    "# Normalization\n",
    "train_data = scaler.fit_transform(train_data.reshape(-1,1))\n",
    "train_data = torch.FloatTensor(train_data).view(-1)\n",
    "# test_data = scaler.fit_transform(test_data.reshape(-1,1))\n",
    "# test_data = torch.FloatTensor(test_data).view(-1)\n",
    "print(test_data)\n",
    "\n",
    "input=[]\n",
    "for i in range(len(train_data)-7):\n",
    "    input.append((train_data[i:7+i],train_data[i+7:i+7+1]))\n",
    "\n",
    "# print(input)\n"
   ]
  },
  {
   "cell_type": "markdown",
   "metadata": {},
   "source": [
    "### LSTM Model"
   ]
  },
  {
   "cell_type": "code",
   "execution_count": 374,
   "metadata": {},
   "outputs": [],
   "source": [
    "class LSTM(nn.Module):\n",
    "    def __init__(self, input_size=1, hidden_layer_size=100, output_size=1):\n",
    "        super().__init__()\n",
    "        self.hidden_layer_size = hidden_layer_size\n",
    "\n",
    "        self.lstm = nn.LSTM(input_size, hidden_layer_size)\n",
    "\n",
    "        self.linear = nn.Linear(hidden_layer_size, output_size)\n",
    "\n",
    "        self.hidden_cell = (torch.zeros(1,1,self.hidden_layer_size),\n",
    "                            torch.zeros(1,1,self.hidden_layer_size))\n",
    "\n",
    "    def forward(self, input_seq):\n",
    "        lstm_out, self.hidden_cell = self.lstm(input_seq.view(len(input_seq) ,1, -1), self.hidden_cell)\n",
    "        predictions = self.linear(lstm_out.view(len(input_seq), -1))\n",
    "        return predictions[-1]\n",
    "\n"
   ]
  },
  {
   "cell_type": "code",
   "execution_count": 375,
   "metadata": {},
   "outputs": [],
   "source": [
    "model=LSTM()\n",
    "# model.to(device)\n",
    "loss=nn.MSELoss()\n",
    "optimizer=torch.optim.Adam(model.parameters(),lr=LR)\n",
    "# print(model)"
   ]
  },
  {
   "cell_type": "markdown",
   "metadata": {},
   "source": [
    "### Train Model"
   ]
  },
  {
   "cell_type": "code",
   "execution_count": 376,
   "metadata": {},
   "outputs": [
    {
     "name": "stdout",
     "output_type": "stream",
     "text": [
      "epoch:   1 loss: 0.09595752\n",
      "epoch:  26 loss: 0.01288883\n",
      "epoch:  51 loss: 0.01168325\n",
      "epoch:  76 loss: 0.01088244\n",
      "epoch:  99 loss: 0.0103191305\n"
     ]
    }
   ],
   "source": [
    "for i in range(EPOCH):\n",
    "    \n",
    "    model.train()\n",
    "\n",
    "    for seq, labels in input:\n",
    "        # seq, labels = seq.to(device), labels.to(device)\n",
    "        \n",
    "        optimizer.zero_grad()\n",
    "        model.hidden_cell = (torch.zeros(1, 1, model.hidden_layer_size),\n",
    "                        torch.zeros(1, 1, model.hidden_layer_size))\n",
    "\n",
    "        y_pred = model(seq)\n",
    "        # print(y_pred)\n",
    "\n",
    "        single_loss = loss(y_pred, labels)\n",
    "        single_loss.backward()\n",
    "        optimizer.step()\n",
    "        # break\n",
    "\n",
    "    if i%25 == 1:\n",
    "        print(f'epoch: {i:3} loss: {single_loss.item():10.8f}')\n",
    "\n",
    "print(f'epoch: {i:3} loss: {single_loss.item():10.10f}')\n"
   ]
  },
  {
   "cell_type": "code",
   "execution_count": 377,
   "metadata": {},
   "outputs": [],
   "source": [
    "test_input=train_data[-7:].tolist()\n",
    "# print(model(test_input[-7:]).item())\n",
    "model.eval()\n",
    "\n",
    "for i in range(7):\n",
    "    with torch.no_grad():\n",
    "        model.hidden_cell = (torch.zeros(1, 1, model.hidden_layer_size),\n",
    "                        torch.zeros(1, 1, model.hidden_layer_size))\n",
    "        test_input.append(model(torch.FloatTensor(test_input[-7:])).item())\n",
    "\n",
    "# print(test_input[:])\n",
    "    \n",
    "    "
   ]
  },
  {
   "cell_type": "code",
   "execution_count": 378,
   "metadata": {},
   "outputs": [
    {
     "name": "stdout",
     "output_type": "stream",
     "text": [
      "[271.2 442.4 267.5 305.  275.1 373.5 371.7]\n",
      "[309.58768616 311.02575073 313.80161438 316.99486694 318.93015442\n",
      " 319.98020325 320.89013062]\n"
     ]
    }
   ],
   "source": [
    "actual_result=scaler.inverse_transform(np.array(test_input[-7:]).reshape(-1,1))\n",
    "print(test_data)\n",
    "print(actual_result.reshape(7,))"
   ]
  }
 ],
 "metadata": {
  "interpreter": {
   "hash": "4ce0e62306dd6a5716965d4519ada776f947e6dfc145b604b11307c10277ef29"
  },
  "kernelspec": {
   "display_name": "Python 3.9.1 64-bit",
   "language": "python",
   "name": "python3"
  },
  "language_info": {
   "codemirror_mode": {
    "name": "ipython",
    "version": 3
   },
   "file_extension": ".py",
   "mimetype": "text/x-python",
   "name": "python",
   "nbconvert_exporter": "python",
   "pygments_lexer": "ipython3",
   "version": "3.9.1"
  },
  "orig_nbformat": 4
 },
 "nbformat": 4,
 "nbformat_minor": 2
}
