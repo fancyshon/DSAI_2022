{
 "cells": [
  {
   "cell_type": "code",
   "execution_count": 20,
   "metadata": {},
   "outputs": [],
   "source": [
    "import torch\n",
    "import pandas as pd\n",
    "import numpy as np\n",
    "from torch.utils.data import DataLoader, Dataset\n",
    "import torchvision.transforms as transforms\n",
    "from tqdm import tqdm\n",
    "import matplotlib.pyplot as plt\n"
   ]
  },
  {
   "cell_type": "code",
   "execution_count": 21,
   "metadata": {},
   "outputs": [],
   "source": [
    "# Open High Low Close\n",
    "train_data=pd.read_csv('training.csv',header=None)\n",
    "\n",
    "open_mean=train_data.mean()[0]\n",
    "open_std=train_data.std()[0]\n",
    "# print(train_data[0])\n",
    "# train_data.head()\n",
    "# train_data.shape"
   ]
  },
  {
   "cell_type": "code",
   "execution_count": 22,
   "metadata": {},
   "outputs": [],
   "source": [
    "def get_data(df, days_to_train=2, days_to_pred=1):\n",
    "    # 用前三天預測當天\n",
    "    X=[]\n",
    "    Y=[]\n",
    "\n",
    "    df=df.apply(lambda x:(x-x.mean())/ x.std())\n",
    "    \n",
    "    for i in range(df.shape[0]-days_to_train):\n",
    "        X.append(np.array(df.iloc[i:(i+days_to_train)],dtype=np.float32))\n",
    "        Y.append(np.array(df.iloc[i+days_to_train,0],dtype=np.float32))\n",
    "\n",
    "    return np.array(X), np.array(Y)\n",
    "\n",
    "class DataSet(Dataset):\n",
    "\n",
    "    def __init__(self,a, b, trans):\n",
    "        self.train=a\n",
    "        self.valid=b\n",
    "        self.transform=trans\n",
    "\n",
    "    def __getitem__(self, index) :\n",
    "        x=self.train[index]\n",
    "        y=self.valid[index]\n",
    "\n",
    "        x=self.transform(x)\n",
    "        # y=self.transform(y)\n",
    "\n",
    "        return x, y\n",
    "\n",
    "    def __len__(self):\n",
    "\n",
    "        return len(self.train)"
   ]
  },
  {
   "cell_type": "code",
   "execution_count": 23,
   "metadata": {},
   "outputs": [
    {
     "name": "stdout",
     "output_type": "stream",
     "text": [
      "(1486, 2, 4)\n",
      "1188 298\n"
     ]
    }
   ],
   "source": [
    "X, Y=get_data(train_data)\n",
    "print(X.shape)\n",
    "# print(Y)\n",
    "\n",
    "train_x, train_y=X[:int(len(X)*0.8)], Y[:int(len(Y)*0.8)]\n",
    "valid_x, valid_y=X[int(len(X)*0.8):], Y[int(len(Y)*0.8):]\n",
    "\n",
    "transform=transforms.Compose([\n",
    "    transforms.ToTensor(),\n",
    "])\n",
    "train_loader=DataLoader(dataset=DataSet(train_x, train_y, transform),batch_size=2,shuffle=True)\n",
    "valid_loader=DataLoader(dataset=DataSet(valid_x, valid_y, transform),batch_size=2,shuffle=True)\n",
    "\n",
    "# print(len(train_x), len(valid_x))\n"
   ]
  },
  {
   "cell_type": "code",
   "execution_count": 24,
   "metadata": {},
   "outputs": [],
   "source": [
    "class LSTM(torch.nn.Module):\n",
    "    def __init__(self, input=4, hidden_size=32, output=1):\n",
    "        # Input of LSTM : batch, sequence_len, input_size\n",
    "        super(LSTM, self).__init__()\n",
    "\n",
    "        self.rnn=torch.nn.LSTM(input, hidden_size, batch_first=True)\n",
    "        self.linear=torch.nn.Linear(hidden_size, output)\n",
    "\n",
    "    def forward(self,x):\n",
    "        out, (hidden, cell) = self.rnn(x)\n",
    "        a, b, c = hidden.shape\n",
    "        # print(hidden.reshape(a*b,c).shape)\n",
    "        out = self.linear(hidden.reshape(a*b,c))\n",
    "        \n",
    "        return out\n",
    "\n",
    "# LSTM=torch.nn.LSTM(4,32,batch_first=True)"
   ]
  },
  {
   "cell_type": "code",
   "execution_count": 25,
   "metadata": {},
   "outputs": [
    {
     "name": "stdout",
     "output_type": "stream",
     "text": [
      "Using cuda\n"
     ]
    }
   ],
   "source": [
    "EPOCH = 50\n",
    "LR = 0.001\n",
    "\n",
    "device = 'cpu'\n",
    "if torch.cuda.is_available(): # 若想使用 cuda 且可以使用 cuda\n",
    "    device = 'cuda'\n",
    "\n",
    "print('Using %s'%device)"
   ]
  },
  {
   "cell_type": "code",
   "execution_count": 26,
   "metadata": {},
   "outputs": [
    {
     "name": "stdout",
     "output_type": "stream",
     "text": [
      "LSTM(\n",
      "  (rnn): LSTM(4, 32, batch_first=True)\n",
      "  (linear): Linear(in_features=32, out_features=1, bias=True)\n",
      ")\n"
     ]
    }
   ],
   "source": [
    "model = LSTM()\n",
    "model=model.to(device)\n",
    "criterion=torch.nn.MSELoss()\n",
    "optimizer=torch.optim.Adam(model.parameters(), lr = LR)\n",
    "\n",
    "print(model)"
   ]
  },
  {
   "cell_type": "code",
   "execution_count": 27,
   "metadata": {},
   "outputs": [
    {
     "name": "stdout",
     "output_type": "stream",
     "text": [
      "============EPOCH 1============\n"
     ]
    },
    {
     "name": "stderr",
     "output_type": "stream",
     "text": [
      "100%|██████████| 594/594 [00:01<00:00, 361.60it/s]\n",
      "100%|██████████| 149/149 [00:00<00:00, 1075.03it/s]\n"
     ]
    },
    {
     "name": "stdout",
     "output_type": "stream",
     "text": [
      "Train loss:0.10244302909134784\n",
      "Valid loss:0.009486174896164507\n",
      "============EPOCH 2============\n"
     ]
    },
    {
     "name": "stderr",
     "output_type": "stream",
     "text": [
      "100%|██████████| 594/594 [00:01<00:00, 372.47it/s]\n",
      "100%|██████████| 149/149 [00:00<00:00, 1123.53it/s]\n"
     ]
    },
    {
     "name": "stdout",
     "output_type": "stream",
     "text": [
      "Train loss:0.009167704365725464\n",
      "Valid loss:0.005065354219234313\n",
      "============EPOCH 3============\n"
     ]
    },
    {
     "name": "stderr",
     "output_type": "stream",
     "text": [
      "100%|██████████| 594/594 [00:01<00:00, 364.70it/s]\n",
      "100%|██████████| 149/149 [00:00<00:00, 1131.79it/s]\n"
     ]
    },
    {
     "name": "stdout",
     "output_type": "stream",
     "text": [
      "Train loss:0.007156949395657005\n",
      "Valid loss:0.0065795593387495644\n",
      "============EPOCH 4============\n"
     ]
    },
    {
     "name": "stderr",
     "output_type": "stream",
     "text": [
      "100%|██████████| 594/594 [00:01<00:00, 372.75it/s]\n",
      "100%|██████████| 149/149 [00:00<00:00, 1260.08it/s]\n"
     ]
    },
    {
     "name": "stdout",
     "output_type": "stream",
     "text": [
      "Train loss:0.006354378028981754\n",
      "Valid loss:0.003303193884438092\n",
      "============EPOCH 5============\n"
     ]
    },
    {
     "name": "stderr",
     "output_type": "stream",
     "text": [
      "100%|██████████| 594/594 [00:01<00:00, 373.02it/s]\n",
      "100%|██████████| 149/149 [00:00<00:00, 1098.78it/s]\n"
     ]
    },
    {
     "name": "stdout",
     "output_type": "stream",
     "text": [
      "Train loss:0.005931519407643192\n",
      "Valid loss:0.0032341077664229958\n",
      "============EPOCH 6============\n"
     ]
    },
    {
     "name": "stderr",
     "output_type": "stream",
     "text": [
      "100%|██████████| 594/594 [00:01<00:00, 357.65it/s]\n",
      "100%|██████████| 149/149 [00:00<00:00, 778.12it/s]\n"
     ]
    },
    {
     "name": "stdout",
     "output_type": "stream",
     "text": [
      "Train loss:0.005522305339037388\n",
      "Valid loss:0.0030849347967156727\n",
      "============EPOCH 7============\n"
     ]
    },
    {
     "name": "stderr",
     "output_type": "stream",
     "text": [
      "100%|██████████| 594/594 [00:01<00:00, 352.05it/s]\n",
      "100%|██████████| 149/149 [00:00<00:00, 1204.59it/s]\n"
     ]
    },
    {
     "name": "stdout",
     "output_type": "stream",
     "text": [
      "Train loss:0.005571956160962169\n",
      "Valid loss:0.0029466591494194242\n",
      "============EPOCH 8============\n"
     ]
    },
    {
     "name": "stderr",
     "output_type": "stream",
     "text": [
      "100%|██████████| 594/594 [00:01<00:00, 358.11it/s]\n",
      "100%|██████████| 149/149 [00:00<00:00, 1114.94it/s]\n"
     ]
    },
    {
     "name": "stdout",
     "output_type": "stream",
     "text": [
      "Train loss:0.005056444408256077\n",
      "Valid loss:0.003206978007325926\n",
      "============EPOCH 9============\n"
     ]
    },
    {
     "name": "stderr",
     "output_type": "stream",
     "text": [
      "100%|██████████| 594/594 [00:01<00:00, 349.41it/s]\n",
      "100%|██████████| 149/149 [00:00<00:00, 1176.60it/s]\n"
     ]
    },
    {
     "name": "stdout",
     "output_type": "stream",
     "text": [
      "Train loss:0.00509991268368375\n",
      "Valid loss:0.002647917752838966\n",
      "============EPOCH 10============\n"
     ]
    },
    {
     "name": "stderr",
     "output_type": "stream",
     "text": [
      "100%|██████████| 594/594 [00:01<00:00, 366.90it/s]\n",
      "100%|██████████| 149/149 [00:00<00:00, 1100.43it/s]\n"
     ]
    },
    {
     "name": "stdout",
     "output_type": "stream",
     "text": [
      "Train loss:0.005125067435182726\n",
      "Valid loss:0.002752983816304281\n",
      "============EPOCH 11============\n"
     ]
    },
    {
     "name": "stderr",
     "output_type": "stream",
     "text": [
      "100%|██████████| 594/594 [00:01<00:00, 366.07it/s]\n",
      "100%|██████████| 149/149 [00:00<00:00, 1157.07it/s]\n"
     ]
    },
    {
     "name": "stdout",
     "output_type": "stream",
     "text": [
      "Train loss:0.004937464112532629\n",
      "Valid loss:0.0029565998750531557\n",
      "============EPOCH 12============\n"
     ]
    },
    {
     "name": "stderr",
     "output_type": "stream",
     "text": [
      "100%|██████████| 594/594 [00:01<00:00, 359.43it/s]\n",
      "100%|██████████| 149/149 [00:00<00:00, 1216.69it/s]\n"
     ]
    },
    {
     "name": "stdout",
     "output_type": "stream",
     "text": [
      "Train loss:0.00482457381076299\n",
      "Valid loss:0.0031711941575495745\n",
      "============EPOCH 13============\n"
     ]
    },
    {
     "name": "stderr",
     "output_type": "stream",
     "text": [
      "100%|██████████| 594/594 [00:01<00:00, 366.36it/s]\n",
      "100%|██████████| 149/149 [00:00<00:00, 1097.31it/s]\n"
     ]
    },
    {
     "name": "stdout",
     "output_type": "stream",
     "text": [
      "Train loss:0.004784776662564897\n",
      "Valid loss:0.002910495605361604\n",
      "============EPOCH 14============\n"
     ]
    },
    {
     "name": "stderr",
     "output_type": "stream",
     "text": [
      "100%|██████████| 594/594 [00:01<00:00, 363.48it/s]\n",
      "100%|██████████| 149/149 [00:00<00:00, 1158.36it/s]\n"
     ]
    },
    {
     "name": "stdout",
     "output_type": "stream",
     "text": [
      "Train loss:0.004777062328584844\n",
      "Valid loss:0.004305195941448355\n",
      "============EPOCH 15============\n"
     ]
    },
    {
     "name": "stderr",
     "output_type": "stream",
     "text": [
      "100%|██████████| 594/594 [00:01<00:00, 367.32it/s]\n",
      "100%|██████████| 149/149 [00:00<00:00, 1140.22it/s]\n"
     ]
    },
    {
     "name": "stdout",
     "output_type": "stream",
     "text": [
      "Train loss:0.004631213598695475\n",
      "Valid loss:0.0028252419507063813\n",
      "============EPOCH 16============\n"
     ]
    },
    {
     "name": "stderr",
     "output_type": "stream",
     "text": [
      "100%|██████████| 594/594 [00:01<00:00, 360.76it/s]\n",
      "100%|██████████| 149/149 [00:00<00:00, 1009.45it/s]\n"
     ]
    },
    {
     "name": "stdout",
     "output_type": "stream",
     "text": [
      "Train loss:0.00463803286465987\n",
      "Valid loss:0.002727655635081286\n",
      "============EPOCH 17============\n"
     ]
    },
    {
     "name": "stderr",
     "output_type": "stream",
     "text": [
      "100%|██████████| 594/594 [00:01<00:00, 351.87it/s]\n",
      "100%|██████████| 149/149 [00:00<00:00, 1255.46it/s]\n"
     ]
    },
    {
     "name": "stdout",
     "output_type": "stream",
     "text": [
      "Train loss:0.004523886103100662\n",
      "Valid loss:0.0028725497215095217\n",
      "============EPOCH 18============\n"
     ]
    },
    {
     "name": "stderr",
     "output_type": "stream",
     "text": [
      "100%|██████████| 594/594 [00:01<00:00, 351.99it/s]\n",
      "100%|██████████| 149/149 [00:00<00:00, 1217.82it/s]\n"
     ]
    },
    {
     "name": "stdout",
     "output_type": "stream",
     "text": [
      "Train loss:0.004653383082719418\n",
      "Valid loss:0.0025533521315046284\n",
      "============EPOCH 19============\n"
     ]
    },
    {
     "name": "stderr",
     "output_type": "stream",
     "text": [
      "100%|██████████| 594/594 [00:01<00:00, 358.38it/s]\n",
      "100%|██████████| 149/149 [00:00<00:00, 1086.02it/s]\n"
     ]
    },
    {
     "name": "stdout",
     "output_type": "stream",
     "text": [
      "Train loss:0.004450370045780325\n",
      "Valid loss:0.0025763022359118035\n",
      "============EPOCH 20============\n"
     ]
    },
    {
     "name": "stderr",
     "output_type": "stream",
     "text": [
      "100%|██████████| 594/594 [00:01<00:00, 348.56it/s]\n",
      "100%|██████████| 149/149 [00:00<00:00, 1185.71it/s]\n"
     ]
    },
    {
     "name": "stdout",
     "output_type": "stream",
     "text": [
      "Train loss:0.0043681571935218376\n",
      "Valid loss:0.002606037010000959\n",
      "============EPOCH 21============\n"
     ]
    },
    {
     "name": "stderr",
     "output_type": "stream",
     "text": [
      "100%|██████████| 594/594 [00:01<00:00, 354.83it/s]\n",
      "100%|██████████| 149/149 [00:00<00:00, 1185.70it/s]\n"
     ]
    },
    {
     "name": "stdout",
     "output_type": "stream",
     "text": [
      "Train loss:0.00505889513397204\n",
      "Valid loss:0.0024574294075796997\n",
      "============EPOCH 22============\n"
     ]
    },
    {
     "name": "stderr",
     "output_type": "stream",
     "text": [
      "100%|██████████| 594/594 [00:01<00:00, 346.92it/s]\n",
      "100%|██████████| 149/149 [00:00<00:00, 995.99it/s]\n"
     ]
    },
    {
     "name": "stdout",
     "output_type": "stream",
     "text": [
      "Train loss:0.004454629259629504\n",
      "Valid loss:0.0032126699388571665\n",
      "============EPOCH 23============\n"
     ]
    },
    {
     "name": "stderr",
     "output_type": "stream",
     "text": [
      "100%|██████████| 594/594 [00:01<00:00, 372.68it/s]\n",
      "100%|██████████| 149/149 [00:00<00:00, 1185.81it/s]\n"
     ]
    },
    {
     "name": "stdout",
     "output_type": "stream",
     "text": [
      "Train loss:0.0044728827305030635\n",
      "Valid loss:0.0025318593408407207\n",
      "============EPOCH 24============\n"
     ]
    },
    {
     "name": "stderr",
     "output_type": "stream",
     "text": [
      "100%|██████████| 594/594 [00:01<00:00, 359.37it/s]\n",
      "100%|██████████| 149/149 [00:00<00:00, 1115.14it/s]\n"
     ]
    },
    {
     "name": "stdout",
     "output_type": "stream",
     "text": [
      "Train loss:0.004501905454512106\n",
      "Valid loss:0.0024293762977313175\n",
      "============EPOCH 25============\n"
     ]
    },
    {
     "name": "stderr",
     "output_type": "stream",
     "text": [
      "100%|██████████| 594/594 [00:01<00:00, 339.99it/s]\n",
      "100%|██████████| 149/149 [00:00<00:00, 1110.18it/s]\n"
     ]
    },
    {
     "name": "stdout",
     "output_type": "stream",
     "text": [
      "Train loss:0.0042962876613649205\n",
      "Valid loss:0.003378042966754788\n",
      "============EPOCH 26============\n"
     ]
    },
    {
     "name": "stderr",
     "output_type": "stream",
     "text": [
      "100%|██████████| 594/594 [00:01<00:00, 361.81it/s]\n",
      "100%|██████████| 149/149 [00:00<00:00, 1070.71it/s]\n"
     ]
    },
    {
     "name": "stdout",
     "output_type": "stream",
     "text": [
      "Train loss:0.0047899277449217305\n",
      "Valid loss:0.0025805876253102633\n",
      "============EPOCH 27============\n"
     ]
    },
    {
     "name": "stderr",
     "output_type": "stream",
     "text": [
      "100%|██████████| 594/594 [00:01<00:00, 351.99it/s]\n",
      "100%|██████████| 149/149 [00:00<00:00, 1156.72it/s]\n"
     ]
    },
    {
     "name": "stdout",
     "output_type": "stream",
     "text": [
      "Train loss:0.004470464119338136\n",
      "Valid loss:0.0027038270733870046\n",
      "============EPOCH 28============\n"
     ]
    },
    {
     "name": "stderr",
     "output_type": "stream",
     "text": [
      "100%|██████████| 594/594 [00:01<00:00, 309.51it/s]\n",
      "100%|██████████| 149/149 [00:00<00:00, 1059.56it/s]\n"
     ]
    },
    {
     "name": "stdout",
     "output_type": "stream",
     "text": [
      "Train loss:0.004581737928398952\n",
      "Valid loss:0.0025220667856126282\n",
      "============EPOCH 29============\n"
     ]
    },
    {
     "name": "stderr",
     "output_type": "stream",
     "text": [
      "100%|██████████| 594/594 [00:01<00:00, 358.04it/s]\n",
      "100%|██████████| 149/149 [00:00<00:00, 768.05it/s]\n"
     ]
    },
    {
     "name": "stdout",
     "output_type": "stream",
     "text": [
      "Train loss:0.004658351003931034\n",
      "Valid loss:0.0031755331007886508\n",
      "============EPOCH 30============\n"
     ]
    },
    {
     "name": "stderr",
     "output_type": "stream",
     "text": [
      "100%|██████████| 594/594 [00:01<00:00, 359.06it/s]\n",
      "100%|██████████| 149/149 [00:00<00:00, 1004.50it/s]\n"
     ]
    },
    {
     "name": "stdout",
     "output_type": "stream",
     "text": [
      "Train loss:0.004305530129213343\n",
      "Valid loss:0.0025730139394428368\n",
      "============EPOCH 31============\n"
     ]
    },
    {
     "name": "stderr",
     "output_type": "stream",
     "text": [
      "100%|██████████| 594/594 [00:01<00:00, 353.99it/s]\n",
      "100%|██████████| 149/149 [00:00<00:00, 1131.47it/s]\n"
     ]
    },
    {
     "name": "stdout",
     "output_type": "stream",
     "text": [
      "Train loss:0.004388583128725595\n",
      "Valid loss:0.00244150510561606\n",
      "============EPOCH 32============\n"
     ]
    },
    {
     "name": "stderr",
     "output_type": "stream",
     "text": [
      "100%|██████████| 594/594 [00:01<00:00, 370.02it/s]\n",
      "100%|██████████| 149/149 [00:00<00:00, 1113.81it/s]\n"
     ]
    },
    {
     "name": "stdout",
     "output_type": "stream",
     "text": [
      "Train loss:0.004412619478600229\n",
      "Valid loss:0.002685509145979591\n",
      "============EPOCH 33============\n"
     ]
    },
    {
     "name": "stderr",
     "output_type": "stream",
     "text": [
      "100%|██████████| 594/594 [00:01<00:00, 356.18it/s]\n",
      "100%|██████████| 149/149 [00:00<00:00, 1068.03it/s]\n"
     ]
    },
    {
     "name": "stdout",
     "output_type": "stream",
     "text": [
      "Train loss:0.004281043629707038\n",
      "Valid loss:0.0025620384713148582\n",
      "============EPOCH 34============\n"
     ]
    },
    {
     "name": "stderr",
     "output_type": "stream",
     "text": [
      "100%|██████████| 594/594 [00:01<00:00, 353.12it/s]\n",
      "100%|██████████| 149/149 [00:00<00:00, 1162.66it/s]\n"
     ]
    },
    {
     "name": "stdout",
     "output_type": "stream",
     "text": [
      "Train loss:0.004342964119322619\n",
      "Valid loss:0.003131146920650464\n",
      "============EPOCH 35============\n"
     ]
    },
    {
     "name": "stderr",
     "output_type": "stream",
     "text": [
      "100%|██████████| 594/594 [00:01<00:00, 371.43it/s]\n",
      "100%|██████████| 149/149 [00:00<00:00, 1037.49it/s]\n"
     ]
    },
    {
     "name": "stdout",
     "output_type": "stream",
     "text": [
      "Train loss:0.004451006724362552\n",
      "Valid loss:0.0024994663400586385\n",
      "============EPOCH 36============\n"
     ]
    },
    {
     "name": "stderr",
     "output_type": "stream",
     "text": [
      "100%|██████████| 594/594 [00:01<00:00, 351.04it/s]\n",
      "100%|██████████| 149/149 [00:00<00:00, 1158.14it/s]\n"
     ]
    },
    {
     "name": "stdout",
     "output_type": "stream",
     "text": [
      "Train loss:0.004448517134182822\n",
      "Valid loss:0.0029893477329084434\n",
      "============EPOCH 37============\n"
     ]
    },
    {
     "name": "stderr",
     "output_type": "stream",
     "text": [
      "100%|██████████| 594/594 [00:01<00:00, 358.29it/s]\n",
      "100%|██████████| 149/149 [00:00<00:00, 1244.99it/s]\n"
     ]
    },
    {
     "name": "stdout",
     "output_type": "stream",
     "text": [
      "Train loss:0.004311435438882718\n",
      "Valid loss:0.0024597197829334984\n",
      "============EPOCH 38============\n"
     ]
    },
    {
     "name": "stderr",
     "output_type": "stream",
     "text": [
      "100%|██████████| 594/594 [00:01<00:00, 372.14it/s]\n",
      "100%|██████████| 149/149 [00:00<00:00, 1123.30it/s]\n"
     ]
    },
    {
     "name": "stdout",
     "output_type": "stream",
     "text": [
      "Train loss:0.004457983453853244\n",
      "Valid loss:0.002506395554833614\n",
      "============EPOCH 39============\n"
     ]
    },
    {
     "name": "stderr",
     "output_type": "stream",
     "text": [
      "100%|██████████| 594/594 [00:01<00:00, 366.34it/s]\n",
      "100%|██████████| 149/149 [00:00<00:00, 1214.62it/s]\n"
     ]
    },
    {
     "name": "stdout",
     "output_type": "stream",
     "text": [
      "Train loss:0.004294790863067576\n",
      "Valid loss:0.002752106921012522\n",
      "============EPOCH 40============\n"
     ]
    },
    {
     "name": "stderr",
     "output_type": "stream",
     "text": [
      "100%|██████████| 594/594 [00:01<00:00, 361.98it/s]\n",
      "100%|██████████| 149/149 [00:00<00:00, 1249.85it/s]\n"
     ]
    },
    {
     "name": "stdout",
     "output_type": "stream",
     "text": [
      "Train loss:0.004511546384358274\n",
      "Valid loss:0.002966039646149426\n",
      "============EPOCH 41============\n"
     ]
    },
    {
     "name": "stderr",
     "output_type": "stream",
     "text": [
      "100%|██████████| 594/594 [00:01<00:00, 364.72it/s]\n",
      "100%|██████████| 149/149 [00:00<00:00, 1052.26it/s]\n"
     ]
    },
    {
     "name": "stdout",
     "output_type": "stream",
     "text": [
      "Train loss:0.0044455488078833025\n",
      "Valid loss:0.0024454932123604374\n",
      "============EPOCH 42============\n"
     ]
    },
    {
     "name": "stderr",
     "output_type": "stream",
     "text": [
      "100%|██████████| 594/594 [00:01<00:00, 368.31it/s]\n",
      "100%|██████████| 149/149 [00:00<00:00, 1158.14it/s]\n"
     ]
    },
    {
     "name": "stdout",
     "output_type": "stream",
     "text": [
      "Train loss:0.004280864211727318\n",
      "Valid loss:0.002464922593939288\n",
      "============EPOCH 43============\n"
     ]
    },
    {
     "name": "stderr",
     "output_type": "stream",
     "text": [
      "100%|██████████| 594/594 [00:01<00:00, 382.15it/s]\n",
      "100%|██████████| 149/149 [00:00<00:00, 1266.40it/s]\n"
     ]
    },
    {
     "name": "stdout",
     "output_type": "stream",
     "text": [
      "Train loss:0.004338429217184458\n",
      "Valid loss:0.0029701019216465297\n",
      "============EPOCH 44============\n"
     ]
    },
    {
     "name": "stderr",
     "output_type": "stream",
     "text": [
      "100%|██████████| 594/594 [00:01<00:00, 346.72it/s]\n",
      "100%|██████████| 149/149 [00:00<00:00, 1143.76it/s]\n"
     ]
    },
    {
     "name": "stdout",
     "output_type": "stream",
     "text": [
      "Train loss:0.004369176207539379\n",
      "Valid loss:0.002438046712452601\n",
      "============EPOCH 45============\n"
     ]
    },
    {
     "name": "stderr",
     "output_type": "stream",
     "text": [
      "100%|██████████| 594/594 [00:01<00:00, 353.43it/s]\n",
      "100%|██████████| 149/149 [00:00<00:00, 1140.21it/s]\n"
     ]
    },
    {
     "name": "stdout",
     "output_type": "stream",
     "text": [
      "Train loss:0.004429097194367145\n",
      "Valid loss:0.002521026818158134\n",
      "============EPOCH 46============\n"
     ]
    },
    {
     "name": "stderr",
     "output_type": "stream",
     "text": [
      "100%|██████████| 594/594 [00:01<00:00, 358.81it/s]\n",
      "100%|██████████| 149/149 [00:00<00:00, 1224.31it/s]\n"
     ]
    },
    {
     "name": "stdout",
     "output_type": "stream",
     "text": [
      "Train loss:0.0044644670255375735\n",
      "Valid loss:0.002958151505737878\n",
      "============EPOCH 47============\n"
     ]
    },
    {
     "name": "stderr",
     "output_type": "stream",
     "text": [
      "100%|██████████| 594/594 [00:01<00:00, 346.59it/s]\n",
      "100%|██████████| 149/149 [00:00<00:00, 1106.47it/s]\n"
     ]
    },
    {
     "name": "stdout",
     "output_type": "stream",
     "text": [
      "Train loss:0.004323358321354256\n",
      "Valid loss:0.0027311715682343056\n",
      "============EPOCH 48============\n"
     ]
    },
    {
     "name": "stderr",
     "output_type": "stream",
     "text": [
      "100%|██████████| 594/594 [00:01<00:00, 364.43it/s]\n",
      "100%|██████████| 149/149 [00:00<00:00, 1266.08it/s]\n"
     ]
    },
    {
     "name": "stdout",
     "output_type": "stream",
     "text": [
      "Train loss:0.004256489012503022\n",
      "Valid loss:0.0025964053169222276\n",
      "============EPOCH 49============\n"
     ]
    },
    {
     "name": "stderr",
     "output_type": "stream",
     "text": [
      "100%|██████████| 594/594 [00:01<00:00, 365.50it/s]\n",
      "100%|██████████| 149/149 [00:00<00:00, 1070.69it/s]\n"
     ]
    },
    {
     "name": "stdout",
     "output_type": "stream",
     "text": [
      "Train loss:0.004221291541423076\n",
      "Valid loss:0.004193022424803817\n",
      "============EPOCH 50============\n"
     ]
    },
    {
     "name": "stderr",
     "output_type": "stream",
     "text": [
      "100%|██████████| 594/594 [00:01<00:00, 342.61it/s]\n",
      "100%|██████████| 149/149 [00:00<00:00, 1248.91it/s]"
     ]
    },
    {
     "name": "stdout",
     "output_type": "stream",
     "text": [
      "Train loss:0.004285881605868714\n",
      "Valid loss:0.002860984869714791\n"
     ]
    },
    {
     "name": "stderr",
     "output_type": "stream",
     "text": [
      "\n"
     ]
    }
   ],
   "source": [
    "# Train model\n",
    "\n",
    "preds=[]\n",
    "targets=[]\n",
    "\n",
    "for i in range(EPOCH):\n",
    "    print('============EPOCH {}============'.format(i+1))\n",
    "    \n",
    "    model.train()\n",
    "    train_loss=0\n",
    "    n_of_train_loss=0\n",
    "    for _, (data, label) in enumerate(tqdm(train_loader)):\n",
    "        data, label = data.to(device), label.to(device)\n",
    "\n",
    "        optimizer.zero_grad()\n",
    "        pred=model(data.squeeze())\n",
    "        label=label.unsqueeze(1)\n",
    "\n",
    "        loss=criterion(pred, label)\n",
    "\n",
    "        loss.backward()\n",
    "        optimizer.step()\n",
    "\n",
    "        train_loss+=loss.item()\n",
    "        n_of_train_loss+=1\n",
    "        # print(label.unsqueeze(1).shape)\n",
    "        # print(pred.shape)\n",
    "        # break\n",
    "        \n",
    "    \n",
    "\n",
    "    # Validate model\n",
    "    model.eval()\n",
    "    valid_loss = 0\n",
    "    n_of_valid_loss = 0\n",
    "\n",
    "    with torch.no_grad():\n",
    "        for _, (data, label) in enumerate(tqdm(valid_loader)):\n",
    "            data, label = data.to(device), label.to(device)\n",
    "\n",
    "            pred=model(data.squeeze())\n",
    "            # print(data.shape)\n",
    "            label=label.unsqueeze(1)\n",
    "\n",
    "            loss = criterion(pred, label)\n",
    "\n",
    "            valid_loss+=loss.item()\n",
    "            n_of_valid_loss+=1\n",
    "\n",
    "            preds.extend(pred.squeeze().tolist())\n",
    "            targets.extend(label.squeeze().tolist())\n",
    "            # break\n",
    "        \n",
    "        print(\"Train loss:{}\".format(train_loss/n_of_train_loss))\n",
    "        print(\"Valid loss:{}\".format(valid_loss/n_of_valid_loss))\n",
    "\n",
    "torch.save(model,'LSTM.pt')\n",
    "\n",
    "# print(len(preds))\n",
    "# print(len(targets))"
   ]
  },
  {
   "cell_type": "code",
   "execution_count": 28,
   "metadata": {},
   "outputs": [
    {
     "data": {
      "image/png": "[encoded data removed]",
      "text/plain": [
       "<Figure size 432x288 with 1 Axes>"
      ]
     },
     "metadata": {
      "needs_background": "light"
     },
     "output_type": "display_data"
    }
   ],
   "source": [
    "# Test\n",
    "\n",
    "plt.plot([(i*open_std)+open_mean for i in preds[:100]],'r',label='Prediction')\n",
    "plt.plot([(i*open_std)+open_mean for i in targets[:100]],'b',label='Real data')\n",
    "plt.show()"
   ]
  },
  {
   "cell_type": "code",
   "execution_count": 29,
   "metadata": {},
   "outputs": [],
   "source": [
    "# Test data\n",
    "test_data=pd.read_csv('testing.csv',header=None)\n",
    "test_mean, test_std = test_data.mean()[0], test_data.std()[0]\n",
    "open_price=test_data[0]\n",
    "test_data=test_data.apply(lambda x:(x-x.mean())/ x.std())\n",
    "\n",
    "X=[]\n",
    "days_to_used=2\n",
    "for i in range(test_data.shape[0]-days_to_used):\n",
    "    X.append(np.array(test_data.iloc[i:(i+days_to_used)],dtype=np.float32))\n",
    "test_set=np.array(X)\n",
    "# print(test_set.shape)\n",
    "test_set=transform(test_set)\n",
    "test_set=test_set.permute(1, 2, 0)\n",
    "# print(test_set.shape)\n",
    "test_set=test_set.to(device)\n",
    "\n",
    "# for _, (data, label) in enumerate((valid_loader)):\n",
    "#     print(data.shape)\n",
    "#     break\n",
    "model.eval()\n",
    "with torch.no_grad():\n",
    "    test_pred=model(test_set)\n",
    "test_pred=test_pred.squeeze().tolist()\n",
    "test_pred.insert(0,0)\n",
    "test_pred.insert(0,0)\n",
    "# print(test_pred)\n",
    "\n",
    "# plt.plot([(i*test_std)+test_mean for i in test_pred],'r',label='Prediction')\n",
    "# plt.plot(open_price,'b',label='Real data')\n",
    "# plt.show()\n",
    "\n",
    "actions=[]\n",
    "unit=0\n",
    "my_price=0\n",
    "for i in range(len(open_price)-1):\n",
    "    \n",
    "    if i < 1:\n",
    "        actions.append(0)\n",
    "        continue\n",
    "\n",
    "    today_price=open_price[i]\n",
    "    pred_price=test_pred[i+1]*test_std+test_mean\n",
    "    if my_price < pred_price and unit == 1:\n",
    "        # Sell\n",
    "        actions.append(-1)\n",
    "        unit-=1\n",
    "    elif today_price > pred_price and unit == 0:\n",
    "        # Buy\n",
    "        actions.append(1)\n",
    "        my_price=open_price[i+1]\n",
    "        unit+=1\n",
    "    else:\n",
    "        actions.append(0)\n",
    "    # print(i)\n",
    "\n",
    "submission=pd.DataFrame({\n",
    "    'Action':actions\n",
    "})\n",
    "submission.to_csv('output.csv',header=None, index=False)\n",
    "\n",
    "# print(submission)\n",
    "\n"
   ]
  }
 ],
 "metadata": {
  "interpreter": {
   "hash": "4ce0e62306dd6a5716965d4519ada776f947e6dfc145b604b11307c10277ef29"
  },
  "kernelspec": {
   "display_name": "Python 3.9.1 64-bit",
   "language": "python",
   "name": "python3"
  },
  "language_info": {
   "codemirror_mode": {
    "name": "ipython",
    "version": 3
   },
   "file_extension": ".py",
   "mimetype": "text/x-python",
   "name": "python",
   "nbconvert_exporter": "python",
   "pygments_lexer": "ipython3",
   "version": "3.7.9"
  },
  "orig_nbformat": 4
 },
 "nbformat": 4,
 "nbformat_minor": 2
}
