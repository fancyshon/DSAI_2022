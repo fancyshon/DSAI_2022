{
 "cells": [
  {
   "cell_type": "code",
   "execution_count": 20,
   "metadata": {},
   "outputs": [],
   "source": [
    "import argparse\n",
    "import torch\n",
    "import pandas as pd\n",
    "import numpy as np\n",
    "from torch.utils.data import DataLoader, Dataset\n",
    "import torchvision.transforms as transforms\n"
   ]
  },
  {
   "cell_type": "code",
   "execution_count": 57,
   "metadata": {},
   "outputs": [
    {
     "name": "stdout",
     "output_type": "stream",
     "text": [
      "0       186.73\n",
      "1       185.57\n",
      "2       184.81\n",
      "3       184.39\n",
      "4       182.20\n",
      "         ...  \n",
      "1483    151.95\n",
      "1484    152.06\n",
      "1485    152.35\n",
      "1486    152.81\n",
      "1487    153.65\n",
      "Name: 0, Length: 1488, dtype: float64\n"
     ]
    }
   ],
   "source": [
    "# Open High Low Close\n",
    "train_data=pd.read_csv('training.csv',header=None)\n",
    "\n",
    "# print(train_data[0])\n",
    "# train_data.head()\n",
    "# train_data.shape"
   ]
  },
  {
   "cell_type": "code",
   "execution_count": 76,
   "metadata": {},
   "outputs": [],
   "source": [
    "def get_data(df, days_to_train=3, days_to_pred=1):\n",
    "    # 用前三天預測當天\n",
    "    X=[]\n",
    "    Y=[]\n",
    "\n",
    "    df=df.apply(lambda x:(x-x.mean())/ x.std())\n",
    "    \n",
    "    for i in range(df.shape[0]-days_to_train):\n",
    "        X.append(np.array(df.iloc[i:(i+days_to_train)]))\n",
    "        Y.append(np.array(df.iloc[i+days_to_train,0]))\n",
    "\n",
    "    return np.array(X), np.array(Y)\n",
    "\n",
    "class DataSet(Dataset):\n",
    "\n",
    "    def __init__(self,a, b, trans):\n",
    "        self.train=a\n",
    "        self.valid=b\n",
    "        self.transform=trans\n",
    "\n",
    "    def __getitem__(self, index) :\n",
    "        x=self.train[index]\n",
    "        y=self.valid[index]\n",
    "\n",
    "        x=self.transform(x)\n",
    "        # y=self.transform(y)\n",
    "\n",
    "        return x, y\n",
    "\n",
    "    def __len__(self):\n",
    "\n",
    "        return len(self.train)"
   ]
  },
  {
   "cell_type": "code",
   "execution_count": 79,
   "metadata": {},
   "outputs": [
    {
     "data": {
      "text/plain": [
       "array([[0.62957606, 0.66460774, 0.64639977, 0.60699286],\n",
       "       [0.57652336, 0.5561619 , 0.59786149, 0.57227652],\n",
       "       [0.54176469, 0.49692677, 0.51360636, 0.53207866]])"
      ]
     },
     "execution_count": 79,
     "metadata": {},
     "output_type": "execute_result"
    }
   ],
   "source": [
    "X, Y=get_data(train_data)\n",
    "# print(X)\n",
    "\n",
    "train_x, train_y=X[:int(len(X)*0.8)], Y[:int(len(Y)*0.8)]\n",
    "\n",
    "# transform=transforms.Compose([\n",
    "#     transforms.ToTensor(),\n",
    "# ])\n",
    "# train_loader=DataLoader(dataset=DataSet(train_x, train_y, transform),batch_size=12,shuffle=True)\n",
    "\n",
    "# print(X[0],Y[1])"
   ]
  },
  {
   "cell_type": "code",
   "execution_count": null,
   "metadata": {},
   "outputs": [],
   "source": []
  }
 ],
 "metadata": {
  "interpreter": {
   "hash": "4ce0e62306dd6a5716965d4519ada776f947e6dfc145b604b11307c10277ef29"
  },
  "kernelspec": {
   "display_name": "Python 3.9.1 64-bit",
   "language": "python",
   "name": "python3"
  },
  "language_info": {
   "codemirror_mode": {
    "name": "ipython",
    "version": 3
   },
   "file_extension": ".py",
   "mimetype": "text/x-python",
   "name": "python",
   "nbconvert_exporter": "python",
   "pygments_lexer": "ipython3",
   "version": "3.9.1"
  },
  "orig_nbformat": 4
 },
 "nbformat": 4,
 "nbformat_minor": 2
}
